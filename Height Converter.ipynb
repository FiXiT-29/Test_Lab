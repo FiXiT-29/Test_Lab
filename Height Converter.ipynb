{
  "nbformat": 4,
  "nbformat_minor": 0,
  "metadata": {
    "colab": {
      "name": "Untitled1.ipynb",
      "provenance": [],
      "authorship_tag": "ABX9TyNfS4I5+3b7Ea8K0qijV22g",
      "include_colab_link": true
    },
    "kernelspec": {
      "name": "python3",
      "display_name": "Python 3"
    }
  },
  "cells": [
    {
      "cell_type": "markdown",
      "metadata": {
        "id": "view-in-github",
        "colab_type": "text"
      },
      "source": [
        "<a href=\"https://colab.research.google.com/github/FiXiT-29/Test_Lab/blob/main/Height%20Converter.ipynb\" target=\"_parent\"><img src=\"https://colab.research.google.com/assets/colab-badge.svg\" alt=\"Open In Colab\"/></a>"
      ]
    },
    {
      "cell_type": "code",
      "metadata": {
        "id": "9pcL14oBsLR8"
      },
      "source": [
        " \n",
        "height = float( input( '''\n",
        "What's your height?\n",
        "'''))\n",
        " \n",
        "unit = input (\"Inch Or Feet? \\n\")\n",
        " \n",
        "if height <= 12 and unit.upper() == \"INCH\":\n",
        "   print (\"\\nPlease Input The Correct Unit\")\n",
        "   unit = input (\"Inch Or Feet? \\n\")\n",
        "elif height >= 13 and unit.upper() == \"FEET\":\n",
        "   print (\"\\nPlease Input The Correct Unit\")\n",
        "   unit = input (\"Inch Or Feet? \\n\")\n",
        " \n",
        "if unit.upper() == \"INCH\":\n",
        "   converted_feet = height // 12\n",
        "   converted_inch = height % 12\n",
        "   print (f\"\\nSo you're {round (converted_feet)} feet {round (converted_inch)} inches tall!\")\n",
        "elif unit.upper() == \"FEET\":\n",
        "   converted = height * 12\n",
        "   print (f\"\\nSo you're about {round (converted)} inches tall!\")\n",
        "else:\n",
        "   print (\"\\nPlease Input The Correct Unit\")\n",
        " \n",
        " \n",
        "print (\"Have a nice day\")"
      ],
      "execution_count": null,
      "outputs": []
    }
  ]
}