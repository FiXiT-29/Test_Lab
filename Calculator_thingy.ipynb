{
  "nbformat": 4,
  "nbformat_minor": 0,
  "metadata": {
    "colab": {
      "name": "Welcome To Colaboratory",
      "provenance": [],
      "collapsed_sections": [],
      "include_colab_link": true
    },
    "kernelspec": {
      "display_name": "Python 3",
      "name": "python3"
    }
  },
  "cells": [
    {
      "cell_type": "markdown",
      "metadata": {
        "id": "view-in-github",
        "colab_type": "text"
      },
      "source": [
        "<a href=\"https://colab.research.google.com/github/FiXiT-29/Test_Lab/blob/main/Calculator_thingy.ipynb\" target=\"_parent\"><img src=\"https://colab.research.google.com/assets/colab-badge.svg\" alt=\"Open In Colab\"/></a>"
      ]
    },
    {
      "cell_type": "code",
      "metadata": {
        "id": "yNKYxTONfiMG"
      },
      "source": [
        " \n",
        "# 2*2 determiner solution... \n",
        " \n",
        "x1 = int( input (\"x1 = \"))\n",
        "y1 = int( input (\"y1 = \"))\n",
        "x2 = int( input (\"x2 = \"))\n",
        "y2 = int( input (\"y2 = \"))\n",
        " \n",
        "r = x1*y2 - x2*y1\n",
        "print(f\"Result = {r}\")"
      ],
      "execution_count": null,
      "outputs": []
    }
  ]
}