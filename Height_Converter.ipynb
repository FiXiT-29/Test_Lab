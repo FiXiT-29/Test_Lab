{
  "nbformat": 4,
  "nbformat_minor": 0,
  "metadata": {
    "colab": {
      "name": "Untitled1.ipynb",
      "provenance": [],
      "authorship_tag": "ABX9TyNfS4I5+3b7Ea8K0qijV22g",
      "include_colab_link": true
    },
    "kernelspec": {
      "name": "python3",
      "display_name": "Python 3"
    }
  },
  "cells": [
    {
      "cell_type": "markdown",
      "metadata": {
        "id": "view-in-github",
        "colab_type": "text"
      },
      "source": [
        "<a href=\"https://colab.research.google.com/github/FiXiT-29/Test_Lab/blob/main/Height_Converter.ipynb\" target=\"_parent\"><img src=\"https://colab.research.google.com/assets/colab-badge.svg\" alt=\"Open In Colab\"/></a>"
      ]
    },
    {
      "cell_type": "code",
      "metadata": {
        "colab": {
          "base_uri": "https://localhost:8080/"
        },
        "id": "hMiHbwLIjQVs",
        "outputId": "5baa19ee-b4a2-4ecc-e57d-25432094b9c6"
      },
      "source": [
        " \n",
        "height = float( input( '''\n",
        "What's your height?\n",
        "'''))\n",
        " \n",
        "unit = input (\"Inch Or Feet? \\n\")\n",
        " \n",
        "if height <= 12 and unit.upper() == \"INCH\":\n",
        "   print (\"\\nPlease Input The Correct Unit\")\n",
        "   unit = input (\"Inch Or Feet? \\n\")\n",
        "elif height >= 13 and unit.upper() == \"FEET\":\n",
        "   print (\"\\nPlease Input The Correct Unit\")\n",
        "   unit = input (\"Inch Or Feet? \\n\")\n",
        " \n",
        "if unit.upper() == \"INCH\":\n",
        "   converted_feet = height // 12\n",
        "   converted_inch = height % 12\n",
        "   print (f\"\\nSo you're {round (converted_feet)} feet {round (converted_inch)} inches tall!\")\n",
        "elif unit.upper() == \"FEET\":\n",
        "   converted = height * 12\n",
        "   print (f\"\\nSo you're about {round (converted)} inches tall!\")\n",
        "else:\n",
        "   print (\"\\nPlease Input The Correct Unit\")\n",
        " \n",
        " \n",
        "print (\"Have a nice day\")"
      ],
      "execution_count": 28,
      "outputs": [
        {
          "output_type": "stream",
          "text": [
            "\n",
            "What's your height?\n",
            "65.33\n",
            "Inch Or Feet? \n",
            "Feet\n",
            "\n",
            "Please Input The Correct Unit\n",
            "Inch Or Feet? \n",
            "Inch\n",
            "\n",
            "So you're 5 feet 5 inches tall!\n",
            "Have a nice day\n"
          ],
          "name": "stdout"
        }
      ]
    }
  ]
}