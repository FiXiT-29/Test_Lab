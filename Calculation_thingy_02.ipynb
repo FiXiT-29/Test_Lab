{
  "nbformat": 4,
  "nbformat_minor": 0,
  "metadata": {
    "colab": {
      "name": "Welcome To Colaboratory",
      "provenance": [],
      "collapsed_sections": [],
      "include_colab_link": true
    },
    "kernelspec": {
      "display_name": "Python 3",
      "name": "python3"
    }
  },
  "cells": [
    {
      "cell_type": "markdown",
      "metadata": {
        "id": "view-in-github",
        "colab_type": "text"
      },
      "source": [
        "<a href=\"https://colab.research.google.com/github/FiXiT-29/Test_Lab/blob/main/Calculation_thingy_02.ipynb\" target=\"_parent\"><img src=\"https://colab.research.google.com/assets/colab-badge.svg\" alt=\"Open In Colab\"/></a>"
      ]
    },
    {
      "cell_type": "code",
      "metadata": {
        "id": "g9zGoXEttnfh"
      },
      "source": [
        " \n",
        "# 2 liniar 2 variable solution\n",
        " \n",
        "a1 = int( input (\"a1 = \"))\n",
        "b1 = int( input (\"b1 = \"))\n",
        "c1 = int( input (\"c1 = \"))\n",
        "a2 = int( input (\"a2 = \"))\n",
        "b2 = int( input (\"b2 = \"))\n",
        "c2 = int( input (\"c2 = \"))\n",
        " \n",
        "y = (c1*a2 - c2*a1) / (b1*a2 - b2*a1)\n",
        "x = (c1 - b1*y) / a1\n",
        " \n",
        "print (f\"\"\"\n",
        "      X = {(x)}\n",
        "      Y = {(y)} \"\"\")"
      ],
      "execution_count": null,
      "outputs": []
    }
  ]
}